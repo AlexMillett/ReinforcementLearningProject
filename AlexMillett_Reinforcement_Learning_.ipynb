{
  "cells": [
    {
      "cell_type": "markdown",
      "metadata": {
        "id": "w-jFCArcTC-B"
      },
      "source": [
        "<a\n",
        "href=\"https://colab.research.google.com/github/wingated/cs474_labs_f2019/blob/master/DL_Lab9.ipynb\"\n",
        "  target=\"_parent\">\n",
        "  <img\n",
        "    src=\"https://colab.research.google.com/assets/colab-badge.svg\"\n",
        "    alt=\"Open In Colab\"/>\n",
        "</a>"
      ]
    },
    {
      "cell_type": "markdown",
      "metadata": {
        "id": "sl7hEuB3J4k3"
      },
      "source": [
        " Deep Reinforcement Learning\n",
        "\n",
        "## Objective\n",
        "\n",
        "- Build DQN and PPO Deep RL algorithms\n",
        "- Show the difference between Q Learning and Policy Gradient techniques\n",
        "\n",
        "\n",
        "\n",
        "### TODO\n",
        "\n",
        "- Train DQN and PPO on cartpole\n",
        "- Display learning curves with average episodic reward per epoch"
      ]
    },
    {
      "cell_type": "markdown",
      "metadata": {
        "id": "WhaPOG6xt0yn"
      },
      "source": [
        "## Init"
      ]
    },
    {
      "cell_type": "code",
      "execution_count": null,
      "metadata": {
        "id": "EyykNyRM1Tf3",
        "colab": {
          "base_uri": "https://localhost:8080/"
        },
        "outputId": "7e5068e8-0a60-4abc-9fd4-3db81c9856d3"
      },
      "outputs": [
        {
          "output_type": "stream",
          "name": "stdout",
          "text": [
            "Requirement already satisfied: gymnasium in /usr/local/lib/python3.10/dist-packages (0.29.1)\n",
            "Requirement already satisfied: numpy>=1.21.0 in /usr/local/lib/python3.10/dist-packages (from gymnasium) (1.25.2)\n",
            "Requirement already satisfied: cloudpickle>=1.2.0 in /usr/local/lib/python3.10/dist-packages (from gymnasium) (2.2.1)\n",
            "Requirement already satisfied: typing-extensions>=4.3.0 in /usr/local/lib/python3.10/dist-packages (from gymnasium) (4.10.0)\n",
            "Requirement already satisfied: farama-notifications>=0.0.1 in /usr/local/lib/python3.10/dist-packages (from gymnasium) (0.0.4)\n",
            "Requirement already satisfied: torch in /usr/local/lib/python3.10/dist-packages (2.2.1+cu121)\n",
            "Requirement already satisfied: filelock in /usr/local/lib/python3.10/dist-packages (from torch) (3.13.3)\n",
            "Requirement already satisfied: typing-extensions>=4.8.0 in /usr/local/lib/python3.10/dist-packages (from torch) (4.10.0)\n",
            "Requirement already satisfied: sympy in /usr/local/lib/python3.10/dist-packages (from torch) (1.12)\n",
            "Requirement already satisfied: networkx in /usr/local/lib/python3.10/dist-packages (from torch) (3.2.1)\n",
            "Requirement already satisfied: jinja2 in /usr/local/lib/python3.10/dist-packages (from torch) (3.1.3)\n",
            "Requirement already satisfied: fsspec in /usr/local/lib/python3.10/dist-packages (from torch) (2023.6.0)\n",
            "Requirement already satisfied: nvidia-cuda-nvrtc-cu12==12.1.105 in /usr/local/lib/python3.10/dist-packages (from torch) (12.1.105)\n",
            "Requirement already satisfied: nvidia-cuda-runtime-cu12==12.1.105 in /usr/local/lib/python3.10/dist-packages (from torch) (12.1.105)\n",
            "Requirement already satisfied: nvidia-cuda-cupti-cu12==12.1.105 in /usr/local/lib/python3.10/dist-packages (from torch) (12.1.105)\n",
            "Requirement already satisfied: nvidia-cudnn-cu12==8.9.2.26 in /usr/local/lib/python3.10/dist-packages (from torch) (8.9.2.26)\n",
            "Requirement already satisfied: nvidia-cublas-cu12==12.1.3.1 in /usr/local/lib/python3.10/dist-packages (from torch) (12.1.3.1)\n",
            "Requirement already satisfied: nvidia-cufft-cu12==11.0.2.54 in /usr/local/lib/python3.10/dist-packages (from torch) (11.0.2.54)\n",
            "Requirement already satisfied: nvidia-curand-cu12==10.3.2.106 in /usr/local/lib/python3.10/dist-packages (from torch) (10.3.2.106)\n",
            "Requirement already satisfied: nvidia-cusolver-cu12==11.4.5.107 in /usr/local/lib/python3.10/dist-packages (from torch) (11.4.5.107)\n",
            "Requirement already satisfied: nvidia-cusparse-cu12==12.1.0.106 in /usr/local/lib/python3.10/dist-packages (from torch) (12.1.0.106)\n",
            "Requirement already satisfied: nvidia-nccl-cu12==2.19.3 in /usr/local/lib/python3.10/dist-packages (from torch) (2.19.3)\n",
            "Requirement already satisfied: nvidia-nvtx-cu12==12.1.105 in /usr/local/lib/python3.10/dist-packages (from torch) (12.1.105)\n",
            "Requirement already satisfied: triton==2.2.0 in /usr/local/lib/python3.10/dist-packages (from torch) (2.2.0)\n",
            "Requirement already satisfied: nvidia-nvjitlink-cu12 in /usr/local/lib/python3.10/dist-packages (from nvidia-cusolver-cu12==11.4.5.107->torch) (12.4.99)\n",
            "Requirement already satisfied: MarkupSafe>=2.0 in /usr/local/lib/python3.10/dist-packages (from jinja2->torch) (2.1.5)\n",
            "Requirement already satisfied: mpmath>=0.19 in /usr/local/lib/python3.10/dist-packages (from sympy->torch) (1.3.0)\n",
            "Requirement already satisfied: pygame in /usr/local/lib/python3.10/dist-packages (2.5.2)\n",
            "Requirement already satisfied: moviepy==1.0.3 in /usr/local/lib/python3.10/dist-packages (1.0.3)\n",
            "Requirement already satisfied: decorator<5.0,>=4.0.2 in /usr/local/lib/python3.10/dist-packages (from moviepy==1.0.3) (4.4.2)\n",
            "Requirement already satisfied: tqdm<5.0,>=4.11.2 in /usr/local/lib/python3.10/dist-packages (from moviepy==1.0.3) (4.66.2)\n",
            "Requirement already satisfied: requests<3.0,>=2.8.1 in /usr/local/lib/python3.10/dist-packages (from moviepy==1.0.3) (2.31.0)\n",
            "Requirement already satisfied: proglog<=1.0.0 in /usr/local/lib/python3.10/dist-packages (from moviepy==1.0.3) (0.1.10)\n",
            "Requirement already satisfied: numpy>=1.17.3 in /usr/local/lib/python3.10/dist-packages (from moviepy==1.0.3) (1.25.2)\n",
            "Requirement already satisfied: imageio<3.0,>=2.5 in /usr/local/lib/python3.10/dist-packages (from moviepy==1.0.3) (2.31.6)\n",
            "Requirement already satisfied: imageio-ffmpeg>=0.2.0 in /usr/local/lib/python3.10/dist-packages (from moviepy==1.0.3) (0.4.9)\n",
            "Requirement already satisfied: pillow<10.1.0,>=8.3.2 in /usr/local/lib/python3.10/dist-packages (from imageio<3.0,>=2.5->moviepy==1.0.3) (9.4.0)\n",
            "Requirement already satisfied: setuptools in /usr/local/lib/python3.10/dist-packages (from imageio-ffmpeg>=0.2.0->moviepy==1.0.3) (67.7.2)\n",
            "Requirement already satisfied: charset-normalizer<4,>=2 in /usr/local/lib/python3.10/dist-packages (from requests<3.0,>=2.8.1->moviepy==1.0.3) (3.3.2)\n",
            "Requirement already satisfied: idna<4,>=2.5 in /usr/local/lib/python3.10/dist-packages (from requests<3.0,>=2.8.1->moviepy==1.0.3) (3.6)\n",
            "Requirement already satisfied: urllib3<3,>=1.21.1 in /usr/local/lib/python3.10/dist-packages (from requests<3.0,>=2.8.1->moviepy==1.0.3) (2.0.7)\n",
            "Requirement already satisfied: certifi>=2017.4.17 in /usr/local/lib/python3.10/dist-packages (from requests<3.0,>=2.8.1->moviepy==1.0.3) (2024.2.2)\n",
            "Requirement already satisfied: imageio_ffmpeg in /usr/local/lib/python3.10/dist-packages (0.4.9)\n",
            "Requirement already satisfied: setuptools in /usr/local/lib/python3.10/dist-packages (from imageio_ffmpeg) (67.7.2)\n",
            "Requirement already satisfied: pyvirtualdisplay in /usr/local/lib/python3.10/dist-packages (3.0)\n",
            "Reading package lists... Done\n",
            "Building dependency tree... Done\n",
            "Reading state information... Done\n",
            "python3-opengl is already the newest version (3.1.5+dfsg-1).\n",
            "ffmpeg is already the newest version (7:4.4.2-0ubuntu0.22.04.1).\n",
            "xvfb is already the newest version (2:21.1.4-2ubuntu1.7~22.04.8).\n",
            "0 upgraded, 0 newly installed, 0 to remove and 45 not upgraded.\n"
          ]
        }
      ],
      "source": [
        "! pip3 install gymnasium\n",
        "! pip3 install torch\n",
        "! pip install pygame\n",
        "! pip install moviepy==1.0.3\n",
        "! pip install imageio_ffmpeg\n",
        "! pip install pyvirtualdisplay\n",
        "! apt-get install -y xvfb python3-opengl ffmpeg"
      ]
    },
    {
      "cell_type": "code",
      "execution_count": null,
      "metadata": {
        "id": "Rim8iocC1Vva"
      },
      "outputs": [],
      "source": [
        "import gymnasium as gym\n",
        "import torch\n",
        "import torch.nn as nn\n",
        "import torch.nn.functional as F\n",
        "from itertools import chain\n",
        "import matplotlib.pyplot as plt\n",
        "from tqdm import tqdm\n",
        "import random\n",
        "from torch.utils.data import Dataset, DataLoader\n",
        "import numpy as np\n",
        "\n",
        "from gymnasium import logger as gymlogger\n",
        "from gymnasium.wrappers import RecordVideo\n",
        "gymlogger.set_level(40) #error only\n",
        "\n",
        "import glob\n",
        "import io\n",
        "import base64\n",
        "from IPython.display import HTML\n",
        "from IPython import display as ipythondisplay"
      ]
    },
    {
      "cell_type": "code",
      "execution_count": null,
      "metadata": {
        "id": "l1f8lZp19Lwj",
        "colab": {
          "base_uri": "https://localhost:8080/"
        },
        "outputId": "4794a751-4f14-4c0e-d380-54ba6d8bcfed"
      },
      "outputs": [
        {
          "output_type": "execute_result",
          "data": {
            "text/plain": [
              "<pyvirtualdisplay.display.Display at 0x7e01fdbdfee0>"
            ]
          },
          "metadata": {},
          "execution_count": 8
        }
      ],
      "source": [
        "from pyvirtualdisplay import Display\n",
        "display = Display(visible=0, size=(1400,900))\n",
        "display.start()"
      ]
    },
    {
      "cell_type": "code",
      "execution_count": null,
      "metadata": {
        "id": "_TI_5c0l9Ojv"
      },
      "outputs": [],
      "source": [
        "def show_video():\n",
        "  mp4list = glob.glob('video/*.mp4')\n",
        "  if len(mp4list) > 0:\n",
        "    mp4 = mp4list[0]\n",
        "    video = io.open(mp4, 'r+b').read()\n",
        "    encoded = base64.b64encode(video)\n",
        "    ipythondisplay.display(HTML(data='''<video alt=\"test\" autoplay\n",
        "                loop controls style=\"height: 400px;\">\n",
        "                <source src=\"data:video/mp4;base64,{0}\" type=\"video/mp4\" />\n",
        "             </video>'''.format(encoded.decode('ascii'))))\n",
        "  else:\n",
        "    print(\"Could not find video\")\n",
        "\n",
        "def wrap_env(env):\n",
        "  env = RecordVideo(env, './video')\n",
        "  return env"
      ]
    },
    {
      "cell_type": "markdown",
      "metadata": {
        "id": "mV282uYJ2aSw"
      },
      "source": [
        "## DQN"
      ]
    },
    {
      "cell_type": "markdown",
      "metadata": {
        "id": "Qi_aDdTg2btp"
      },
      "source": [
        "## Part 1\n",
        "\n",
        "\n",
        "$Loss=\\frac{1}{N}\\sum \\bigg(Q(s,a) - (r + \\gamma \\underset{a'\\sim A}{max} \\hat{Q}(s',a')(1-d))\\bigg)^2 $\n",
        "\n",
        "### TODO\n",
        "\n",
        "- Implement get action method with e-greedy policy\n",
        "- Implement sample batch method\n",
        "- Implement DQN learning algorithm\n",
        "\n"
      ]
    },
    {
      "cell_type": "code",
      "execution_count": null,
      "metadata": {
        "id": "_mBUvXkT2dHy"
      },
      "outputs": [],
      "source": [
        "def get_action_dqn(network, state, epsilon, epsilon_decay):\n",
        "  \"\"\"Select action according to e-greedy policy and decay epsilon\n",
        "\n",
        "    Args:\n",
        "        network (QNetwork): Q-Network\n",
        "        state (np-array): current state, size (state_size)\n",
        "        epsilon (float): probability of choosing a random action\n",
        "        epsilon_decay (float): amount by which to decay epsilon\n",
        "\n",
        "    Returns:\n",
        "        action (int): chosen action [0, action_size)\n",
        "        epsilon (float): decayed epsilon\n",
        "  \"\"\"\n",
        "\n",
        "\n",
        "  state = torch.FloatTensor(state).cuda()\n",
        "  q_vals = network(state.unsqueeze(0))\n",
        "\n",
        "  if random.random() > epsilon:\n",
        "      action = torch.argmax(q_vals).item()\n",
        "  else:\n",
        "      action = random.randint(0, q_vals.size(1) - 1)\n",
        "\n",
        "  epsilon *= epsilon_decay\n",
        "  return action, epsilon\n",
        "\n",
        "\n",
        "def prepare_batch(memory, batch_size):\n",
        "  \"\"\"Randomly sample batch from memory\n",
        "     Prepare cuda tensors\n",
        "\n",
        "    Args:\n",
        "        memory (list): state, action, next_state, reward, done tuples\n",
        "        batch_size (int): amount of memory to sample into a batch\n",
        "\n",
        "    Returns:\n",
        "        state (tensor): float cuda tensor of size (batch_size x state_size)\n",
        "        action (tensor): long tensor of size (batch_size)\n",
        "        next_state (tensor): float cuda tensor of size (batch_size x state_size)\n",
        "        reward (tensor): float cuda tensor of size (batch_size)\n",
        "        done (tensor): float cuda tensor of size (batch_size)\n",
        "  \"\"\"\n",
        "  state, action, next_state, reward, done = zip(*random.sample(memory, batch_size))\n",
        "\n",
        "  state = torch.FloatTensor(state).cuda()\n",
        "  action = torch.LongTensor(action).cuda()\n",
        "  next_state = torch.FloatTensor(next_state).cuda()\n",
        "  reward = torch.FloatTensor(reward).cuda()\n",
        "  done = torch.FloatTensor(done).cuda()\n",
        "\n",
        "  return state, action, next_state, reward, done\n",
        "\n",
        "def learn_dqn(batch, optim, q_network, target_network, gamma, global_step, target_update):\n",
        "  \"\"\"Update Q-Network according to DQN Loss function\n",
        "     Update Target Network every target_update global steps\n",
        "\n",
        "    Args:\n",
        "        batch (tuple): tuple of state, action, next_state, reward, and done tensors\n",
        "        optim (Adam): Q-Network optimizer\n",
        "        q_network (QNetwork): Q-Network\n",
        "        target_network (QNetwork): Target Q-Network\n",
        "        gamma (float): discount factor\n",
        "        global_step (int): total steps taken in environment\n",
        "        target_update (int): frequency of target network update\n",
        "  \"\"\"\n",
        "  state, action, next_state, reward, done = batch\n",
        "\n",
        "  q_vals = q_network(state).gather(1, action[:,None]).squeeze()\n",
        "  next_q_vals = torch.max(target_network(next_state), dim=1)[0]\n",
        "  target_q_vals = reward + (gamma * next_q_vals * (1 - done))\n",
        "\n",
        "  loss = torch.mean((q_vals-target_q_vals)**2)\n",
        "\n",
        "  optim.zero_grad()\n",
        "  loss.backward()\n",
        "  optim.step()\n",
        "\n",
        "  if global_step % target_update == 0:\n",
        "        target_network.load_state_dict(q_network.state_dict())\n"
      ]
    },
    {
      "cell_type": "markdown",
      "metadata": {
        "id": "vGQgiY0WvImB"
      },
      "source": [
        "### Modules"
      ]
    },
    {
      "cell_type": "code",
      "execution_count": null,
      "metadata": {
        "id": "1vMhl-oevIBo"
      },
      "outputs": [],
      "source": [
        "# Q-Value Network\n",
        "class QNetwork(nn.Module):\n",
        "  def __init__(self, state_size, action_size):\n",
        "    super().__init__()\n",
        "    hidden_size = 8\n",
        "\n",
        "    self.net = nn.Sequential(nn.Linear(state_size, hidden_size),\n",
        "                             nn.ReLU(),\n",
        "                             nn.Linear(hidden_size, hidden_size),\n",
        "                             nn.ReLU(),\n",
        "                             nn.Linear(hidden_size, hidden_size),\n",
        "                             nn.ReLU(),\n",
        "                             nn.Linear(hidden_size, action_size))\n",
        "\n",
        "  def forward(self, x):\n",
        "    \"\"\"Estimate q-values given state\n",
        "\n",
        "      Args:\n",
        "          state (tensor): current state, size (batch x state_size)\n",
        "\n",
        "      Returns:\n",
        "          q-values (tensor): estimated q-values, size (batch x action_size)\n",
        "    \"\"\"\n",
        "    return self.net(x)"
      ]
    },
    {
      "cell_type": "markdown",
      "metadata": {
        "id": "yCafVI552dgg"
      },
      "source": [
        "### Main"
      ]
    },
    {
      "cell_type": "code",
      "execution_count": null,
      "metadata": {
        "id": "8Sy_r9Wr2eg8",
        "colab": {
          "base_uri": "https://localhost:8080/",
          "height": 689
        },
        "outputId": "7c788415-1f0c-42ae-b301-c7dca0fa2021"
      },
      "outputs": [
        {
          "output_type": "stream",
          "name": "stderr",
          "text": [
            "Episodes: 498 Reward: 200.0: 100%|█████████▉| 499/500 [01:56<00:00,  2.61it/s]"
          ]
        },
        {
          "output_type": "stream",
          "name": "stdout",
          "text": [
            "Moviepy - Building video /content/video/rl-video-episode-0.mp4.\n",
            "Moviepy - Writing video /content/video/rl-video-episode-0.mp4\n",
            "\n"
          ]
        },
        {
          "output_type": "stream",
          "name": "stderr",
          "text": [
            "\n",
            "t:   0%|          | 0/202 [00:00<?, ?it/s, now=None]\u001b[A\n",
            "t:  14%|█▍        | 28/202 [00:00<00:00, 274.56it/s, now=None]\u001b[A\n",
            "t:  28%|██▊       | 56/202 [00:00<00:00, 233.72it/s, now=None]\u001b[A\n",
            "t:  40%|███▉      | 80/202 [00:00<00:00, 216.02it/s, now=None]\u001b[A\n",
            "t:  50%|█████     | 102/202 [00:00<00:00, 216.33it/s, now=None]\u001b[A\n",
            "t:  61%|██████▏   | 124/202 [00:00<00:00, 204.68it/s, now=None]\u001b[A\n",
            "t:  72%|███████▏  | 145/202 [00:00<00:00, 199.71it/s, now=None]\u001b[A\n",
            "t:  82%|████████▏ | 166/202 [00:00<00:00, 199.63it/s, now=None]\u001b[A\n",
            "t:  93%|█████████▎| 188/202 [00:00<00:00, 204.77it/s, now=None]\u001b[A\n",
            "                                                                              "
          ]
        },
        {
          "output_type": "stream",
          "name": "stdout",
          "text": [
            "Moviepy - Done !\n",
            "Moviepy - video ready /content/video/rl-video-episode-0.mp4\n"
          ]
        },
        {
          "output_type": "stream",
          "name": "stderr",
          "text": [
            "\r"
          ]
        },
        {
          "output_type": "display_data",
          "data": {
            "text/plain": [
              "<IPython.core.display.HTML object>"
            ],
            "text/html": [
              "<video alt=\"test\" autoplay\n",
              "                loop controls style=\"height: 400px;\">\n",
              "                <source src=\"data:video/mp4;base64,AAAAIGZ0eXBpc29tAAACAGlzb21pc28yYXZjMW1wNDEAAAAIZnJlZQAAKlxtZGF0AAACrgYF//+q3EXpvebZSLeWLNgg2SPu73gyNjQgLSBjb3JlIDE1OSByMjk5MSAxNzcxYjU1IC0gSC4yNjQvTVBFRy00IEFWQyBjb2RlYyAtIENvcHlsZWZ0IDIwMDMtMjAxOSAtIGh0dHA6Ly93d3cudmlkZW9sYW4ub3JnL3gyNjQuaHRtbCAtIG9wdGlvbnM6IGNhYmFjPTEgcmVmPTMgZGVibG9jaz0xOjA6MCBhbmFseXNlPTB4MzoweDExMyBtZT1oZXggc3VibWU9NyBwc3k9MSBwc3lfcmQ9MS4wMDowLjAwIG1peGVkX3JlZj0xIG1lX3JhbmdlPTE2IGNocm9tYV9tZT0xIHRyZWxsaXM9MSA4eDhkY3Q9MSBjcW09MCBkZWFkem9uZT0yMSwxMSBmYXN0X3Bza2lwPTEgY2hyb21hX3FwX29mZnNldD0tMiB0aHJlYWRzPTMgbG9va2FoZWFkX3RocmVhZHM9MSBzbGljZWRfdGhyZWFkcz0wIG5yPTAgZGVjaW1hdGU9MSBpbnRlcmxhY2VkPTAgYmx1cmF5X2NvbXBhdD0wIGNvbnN0cmFpbmVkX2ludHJhPTAgYmZyYW1lcz0zIGJfcHlyYW1pZD0yIGJfYWRhcHQ9MSBiX2JpYXM9MCBkaXJlY3Q9MSB3ZWlnaHRiPTEgb3Blbl9nb3A9MCB3ZWlnaHRwPTIga2V5aW50PTI1MCBrZXlpbnRfbWluPTI1IHNjZW5lY3V0PTQwIGludHJhX3JlZnJlc2g9MCByY19sb29rYWhlYWQ9NDAgcmM9Y3JmIG1idHJlZT0xIGNyZj0yMy4wIHFjb21wPTAuNjAgcXBtaW49MCBxcG1heD02OSBxcHN0ZXA9NCBpcF9yYXRpbz0xLjQwIGFxPTE6MS4wMACAAAACNGWIhAAz//727L4FNf2f0JcRLMXaSnA+KqSAgHc0wAAAAwAAAwAAFgn0I7DkqgN3QAAAHGAFBCwCPCVC2EhH2OkN/wO1oEc8C2ObCW7/ugAHQuoPi+tGUHWIlK/iouz5GBBsevljs3ptqQPjCJjDWQaNkIlgW7D+gEMQzv+QKif8e84DdP4JQgE2hASAgFFizl9R6iGgNomSuMNLcr9ssfIeoeD4u8B2SiHiCW3Bvy7j1SlkDjNS00+PtgEAmss+Q35F7ikVMd8V99K+nxr/0K9SuhG8z/rIogxi9RFEomtdZOd3mu02npToCYDyRWYly2VEV71Lnksby0y9ymwRSGYu8Nve9tCqCEZjB7nyjKGgITeJXHNImOBv7RWHPrVFzpCG/v7kMn6hyRuWoaBhv2STTR/F3gRzrSCdOjCkJcLMhlLrtbf6alqNOuy3yJ8o+tW3lVKLC36x0xJt/EmQ/jl/ZVI8Md96Str15yXPj3f7HSV2rtzpPnifgsh2rnuFbudZAZG75DqO6D8PYd8bEM8SSWNUM/vCcp5Owk7d1CqYE8IA8kHwDGoFfLg2QH1MQyDHTeGOM6m+S2uT/+b/zv39GYNZYOFWb3rRW6oUOsrqEAVWagx6oHmhNSLjebghbuGi08go/qHjZFAABv0/DY32h6fVQmDsiQ/9Lmj8yjEKFJVqTdBvJ+bCPOwREeDAr95nicJwi78ct71cHLqSRV0C+whdB3FxiYwLVkAAAAMAAAMBbwAAAGxBmiRsQz/+nhAAAEVJtMPtWp6rLkTpytcy9Y04Ep26zb6CZbV/ATK661YKitcgzLAEQv/RTLQ/Q0Xs1cuLRtAN17pUeFHBO1goAxcW8KVqIfdbatXmA00/lw2O0fRzt8PayIbZ5yrOWQseQIAAAAAxQZ5CeIR/AAAWs0e3DKYWTgVsZKOq/YEsopgV6C6n7K4IJMdF6Rlh3jkhYRfNIYzZgQAAADQBnmF0R/8AACOr+FwmfklCiPEND/t4ldTDreMyOF45aCKPFKcb3igtYUykdKpm5rQEY2lQAAAAHwGeY2pH/wAAI7HMCW+6nyT3+y2ObNUAUWaI3J9Dm2kAAABoQZpoSahBaJlMCGf//p4QAABFRQTLTOgDpSLa1QAlfhlJj20wYYJZNnUTXrx+Gv8AMukdOEWsgm2gO87vjQMut1A32AIkGbKBcyJH8i+mqMwWROakLNIcbWYwGDneV67WYL2g8qt+4MkAAAA1QZ6GRREsI/8AABa1KzlzUJuNSytzb768UPhfJ5FTMDx8lqBVnHvbMdvj3sxGKo5tT/mdDlkAAAApAZ6ldEf/AAAjwxdoqZ3xt1GM7KX2d8W5v6E5xS+QlIfXsUvfbBEc900AAAAgAZ6nakf/AAAE+zCXrlBGahQHiKcm8eVDsFW3LE9PqfAAAAAsQZqsSahBbJlMCGf//p4QAAAaWlZb09n5sYlfILyw9XZwX0RAygKAM/GThg8AAAAYQZ7KRRUsI/8AAAhsCqHGJu26fIjS2Y2BAAAAEgGe6XRH/wAABNWH0ZCehpkkQQAAAA4BnutqR/8AAAMAAAMBqQAAAFlBmvBJqEFsmUwIZ//+nhAAAAn/s+VvkJ8POhEiBFx423QA7CQAcuYpJO5W5JEYrYcolkK9CYbtp+DAGmdJ+bUgZ9gOOeybzUyDzfNOE2CPOo146zEKyDz+QQAAAChBnw5FFSwj/wAAAwM3ZV3+eTV8H0V7+P736IQAgZq0wh8KodryKAeDAAAAHgGfLXRH/wAABRxc0GVfWS4KoF5hUyVmpfFPdVJyQQAAABsBny9qR/8AAAMB5n/VSX8TcdX2dxiHhqcmO3AAAABBQZs0SahBbJlMCGf//p4QAABFRQg0AcUouyM0ke0e0CyPFyRk8pr0MtdMriYotF7+MXG7Qz7x/2Y2/F1uRvTo8YAAAAAqQZ9SRRUsI/8AABa1KzdrWwvgvOKKO46LJ3TmQgVQNgHNhZjT6EeIQfBhAAAAIQGfcXRH/wAAI8MXaITMZWUQ84vFoPD00lqyQCwTyuskwAAAABsBn3NqR/8AAAT7NNXe24hqgkgb6PDoJHCRk5IAAAAXQZt4SahBbJlMCGf//p4QAAADAAADAz8AAAAQQZ+WRRUsI/8AAAMAAAMBBwAAAA4Bn7V0R/8AAAMAAAMBqQAAAA4Bn7dqR/8AAAMAAAMBqQAAABdBm7xJqEFsmUwIZ//+nhAAAAMAAAMDPgAAAC5Bn9pFFSwj/wAAAwM3cPnxf0bp7FMIQkIQEIAaHHmZaMzHiqsMOEw4bQeQuO3BAAAAHQGf+XRH/wAABR/Qwc62cEcg5Ky25xEKzD5lX23AAAAAGwGf+2pH/wAAAwHmf9VsZML0DWwxkLNB3fu2YQAAAFdBm+BJqEFsmUwIZ//+nhAAAEVo8TPS/AF63ACLLdydwA1WoHdUafTo5TvNvSomv1YaILMOVhKUV7Dj+JXaQBbG2v6g1omttw7se0JSTxxAW0XjbL8TZKEAAAApQZ4eRRUsI/8AABa8Q8qOh+NVsekUKuol28ARjKDE0OYjNIUN0jIa8gIAAAAdAZ49dEf/AAADALoKTUJCXWL9sp+p9URsmxtSfLgAAAAXAZ4/akf/AAAjvwQnEslplxaNQbdAXcEAAAAXQZokSahBbJlMCGf//p4QAAADAAADAz4AAAAQQZ5CRRUsI/8AAAMAAAMBBwAAAA4BnmF0R/8AAAMAAAMBqQAAAA4BnmNqR/8AAAMAAAMBqQAAABdBmmhJqEFsmUwIZ//+nhAAAAMAAAMDPwAAAC5BnoZFFSwj/wAAAwM3cPnxf0bzYAAbR45nCkg//fxMwr1L7k82NMvKBZkpSW3BAAAAGgGepXRH/wAABR/Qwc62jcNX2BFaCJxmV2zBAAAAHAGep2pH/wAAAwHlLjYRAa8Bsug9ymVROVHu2YAAAAAXQZqsSahBbJlMCGf//p4QAAADAAADAz4AAAAdQZ7KRRUsI/8AABazK7UFuRwqSyLhNFGumFs+iykAAAAXAZ7pdEf/AAAjwxdoqaVT1PvCdscQ2YAAAAAaAZ7rakf/AAAjvwQnEslpmrhUwIZY3AmwS8AAAABGQZrwSahBbJlMCGf//p4QAABFUiXADB7O6mtHD2jr+0NZO6BqF9sNz/EVEMYKc29HTiu0EGmih3BzwavExh3ctrUGB3IsoQAAABlBnw5FFSwj/wAAFrUrOt7sXBk/z5cMAospAAAAKAGfLXRH/wAAI6v4W3gSzd0x8SmtYOgV1PzKvPsXaYRKS7COvgUi3bkAAAAOAZ8vakf/AAADAAADAakAAABTQZs0SahBbJlMCGf//p4QAABFRQUfGk9b0QDHyO+MALb3neVxhaDoD6ZEEvlp0ukKtGRM4Iq6QAHNpWNMgalg1LaFwyOVTfK4+q4gBQIDXlS1t6AAAAAuQZ9SRRUsI/8AABa1Kzdn+AZQE7n2/u+EXFZcgtRyv5PW7vfNVkITrdQb5sSAgQAAAB8Bn3F0R/8AACPDF2Kz/eKiPkz4nEbpushg1nz1pJAQAAAAHQGfc2pH/wAABR8xNKYgpEiRy0nwhJOFhAiyqWzAAAAAF0GbeEmoQWyZTAhn//6eEAAAAwAAAwM/AAAAEkGflkUVLCP/AAADAS4p+QAakAAAABABn7V0R/8AAAMB2oo9gIGBAAAAEAGft2pH/wAAAwHbf+KAakEAAABpQZu8SahBbJlMCGf//p4QAAAJ/7P3ayfEDwFZP3HT2KrvPLJU5bJgTUoqQvwAndl7NyHSsKeVSGEeLIwf6F5iXgoE0AzgvbFWSGXaQf8yRpehWIUuzjdZf5RhMzmuM+7jkfkPqEVVip7DAAAAI0Gf2kUVLCP/AAADAzhNZu1rS+HaM19VzTYT1a98NFtDT62ZAAAAHAGf+XRH/wAABR/L7QqiItWX+SG2E6HchIKsPz4AAAAXAZ/7akf/AAADAAo+eQzBQPX+9kHnPVEAAABeQZvgSahBbJlMCGf//p4QAABFaPJAACd9da0Plg8CuHSo/NZYSWw9F0nhd9A6YLRziKSw8XFn53CegQuflxpY3xSXGGNb4pG2AHKdpF7zwbhCE1IZUbq062bvJCp+DQAAAC9Bnh5FFSwj/wAAFrNIA6Lr0OauD2BuVi4FSpABFcj86/cNzUsTxfC2X5SWI+sfgwAAACQBnj10R/8AACO4r9xSwvMflMNaX/rzho3USZkzReFy/j0IoIAAAAAkAZ4/akf/AAAjscwIzjzL4066LXr8aWn3l+B2KnZ0utT1JnJBAAAAUEGaJEmoQWyZTAhn//6eEAAAGd9RWOdi/EANdiKWZWQxBYBGxXmPyGHgIuLDCtS0F3aihF91WQ/05Rpqpy2WRLb9ZytL4e4xyT2zm0+bIwviAAAAJUGeQkUVLCP/AAAILAy26Wj/2arlaByCwgLNWJu0s3NduFu0RyUAAAATAZ5hdEf/AAANLhLzJY+P6vmiFgAAABsBnmNqR/8AAAUfMJZ7iS0zVwrPehofAIKVMk0AAABEQZpoSahBbJlMCGf//p4QAABFRQVM48AXp08SjvX3HfekQlDrbGe/ef5lDeCriMCO70/o1IWmkm8CvdWKdCmvHU06dcEAAAAuQZ6GRRUsI/8AABa8Q8xh+pKEPGwAtu4o6yjtUy5SpMLZuIzkSnFc48F1QA8s3QAAACIBnqV0R/8AAAUZBr24KhztqZN7YlnskCCcROn4voIbxdmBAAAAGAGep2pH/wAAI7HMCW+pb7IVSPv0xXwwBgAAAG9BmqxJqEFsmUwIZ//+nhAAABpaC48Jz7QAP5vzqwlApZ6ePpThQFcmeCltsRo3KOiqzro5ibudQn+ofCz7hYCtZE239i/Y7r/A4p3KGeA7xOAXn3c7DLZsb33xmBOB4GCmXjL2aqByQvU5coxxAcwAAAAhQZ7KRRUsI/8AAAMDLgVmgEFMGLDJBznz3w8N0p9YpLaBAAAAHQGe6XRH/wAABR/L7RU0qnqfeSpyShdzB5rwj4toAAAAEAGe62pH/wAAAwABfpPDA4AAAABIQZrwSahBbJlMCGf//p4QAABFRQg0AUGb3na1mvJp3wvXPkEteAeu/yskNLLkwojnfz7fjfruMe//Xl9ITzL2LWuJyCBeorVNAAAAHkGfDkUVLCP/AAAWvEPN/dn+gewPRFzk1GwPfbLFtQAAADkBny10R/8AAAUgjjQb1T/TY8gjzdX1Qg0ArBJYZtphT3yViYEQsroRmPpYWTqQch3zg1fCZpsrluEAAAAaAZ8vakf/AAAjvwQnEslpmrhWUx8pl3UU4W0AAAA+QZs0SahBbJlMCGf//p4QAAAJ+QeBabaxSAUADn7iNdQciEnk6PDl/+zWF/N082RVr7H9xXYHcXbZHL92lsAAAAAhQZ9SRRUsI/8AAAMDLq+6HY/K8Mwr7mUg3VqPAM6WIDNnAAAAHgGfcXRH/wAAAwHmsbCUfWDWJ8iCmQe6D4KU7BfSVAAAABIBn3NqR/8AAAMB5n/i3TB21MAAAABxQZt4SahBbJlMCGf//p4QAABFZUFOwcsJxVZJyx9ID+BnKITCgiQcTsDvmyA53RrF61QqIduGlH9vKmbSj0ERNHZn2U6oFe4SUvj3CdDWrDdm3AYjRDRKIn4eKuSyeLdbTucVjRREsMPWSMhe6pP6BsEAAAA+QZ+WRRUsI/8AABa1Kzczh1CFbfnRMAEdDLuR1TPoGvLeeGc7x9ymmMnBj9eDpVTwpJgNNpduc+zQEZhsKBgAAAAYAZ+1dEf/AAAjq/hbeBKdaCOIJjbXbEbBAAAAHAGft2pH/wAABR8wlnuJLTNXIeaBIHhXPZhH8GEAAABUQZu8SahBbJlMCGf//p4QAABFVKlN662EHIoAbqiWfXBJsnhZhWn0iKyxtUxjhIKw3cP+0LDZ39zbnCj4pUnjuBgVJpr6eLkt0E1jqqgqdC8v0UmFAAAAIkGf2kUVLCP/AAAWvE5sy5q0VkewtXmm0kO2zBMf3RDezkkAAAAbAZ/5dEf/AAAE+9HjgGmqmMwjQ1ucQYWKDtmAAAAAHQGf+2pH/wAAI78azB/xOSEAGA8kvpxERpMDlxKhAAAAR0Gb4EmoQWyZTAhn//6eEAAACfPNp48NMbqOGS6udgmXA2rBtYuF4971pay/QAEu5CDf5nTo0Wnr7B/glcjuWhq5wdeoG1vlAAAAHUGeHkUVLCP/AAADAzhTCfMy+YMVs7FJjhgXqO3AAAAAKwGePXRH/wAABRz3txIejBcg4JKgbwhYKp1b35yACa4Z/jetdCRC0xkUduAAAAAOAZ4/akf/AAADAAADAakAAABYQZokSahBbJlMCGf//p4QAABFRQXvV33r6vvdlLiGAulTy/ZlWz0WALwge3mbd9Hh0UXyLK9QjPQxDYeeMEAX8rnSeyWYPgw2HGntS+BdfLxLEOJ22KR/YAAAAC9BnkJFFSwj/wAAFrVYVa8GBbd9OcHsADjyjeme4LsYwgshR/d/quk5MDg4iN1vgwAAABcBnmF0R/8AACOsOQW8kE6pqgefkp/q2AAAABoBnmNqR/8AAAUfhqZxNJWAPFRD7wH7M5vbZwAAAFtBmmhJqEFsmUwIZ//+nhAAABpaVlZVmgALlfTVSfEdtrt3/nY9DihGCLF7I/Ee7Lvg+XyxviVUfg/G9VZsNScsELioxa9NKYSHRb+lvrbX7LS4M0wfIxlItAPJAAAAKkGehkUVLCP/AAADAzkxzZhbCWHo56KSXfIrGvXYAF32ai74cIF37mGnkwAAABYBnqV0R/8AAAMACj+0PYM7B68p9nqhAAAAFQGep2pH/wAABR08pFShh6V3PT2qoAAAAFFBmqxJqEFsmUwIZ//+nhAAAEVFCDQAq+6I88YFwiiV9Yp+2OEp+fiYvNXKgS6ox6cW+/G8p/DSfAeoR+tb0xo62N/R75JBtCftrsMP8orxkbcAAAAjQZ7KRRUsI/8AABa1X0xR2LtEdrJ0S6seHccAoCoDfNQMi3EAAAArAZ7pdEf/AAAkwvCF7ao8gAturrn8dQ1/YNRhMy+KgCJKjz+HdNmei7QwIAAAABUBnutqR/8AACTHxti+rYQ+1kL9JeAAAABdQZrwSahBbJlMCF///oywAABGFFtYvXuaDJ/gBD7JllkrANsa6FDY7KzaVZeCf5F2NP9N4oznSncwlnn8XFX45Lam7jlWUHs5zigXBZ6tDL8EfJpvclkYM+Nzdxo5AAAAMkGfDkUVLCP/AAAWtV9HB+pqs1pjFP+BvwGCtNwADdPzxOxpEJ3SyoCbZK4ipnN9MJSRAAAAIwGfLXRH/wAAI8NHCGcilVC7oLSYR9wpCrhbK7D24aFWWpYtAAAAHAGfL2pH/wAABR801d7biOI9Q2nF9dWKzUssSoAAAAA5QZszSahBbJlMCGf//p4QAABFRQXxQVQPSFiADjMh8T+YKXp0FA5+4mQor3V4wLA+Bp6sg3mcBxuwAAAAGEGfUUUVLCP/AAAWvE5swthSH2+OWzhBwQAAABcBn3JqR/8AACO/Gs573iAPqn+LpspruAAAAFVBm3dJqEFsmUwIZ//+nhAAAEdRCU8Z4Ai2bZ/BCBdzmuzQsqV+g26Hd4AyZ9VV/wU5qzn5dtbFyLWi3sIjupWC68hSGCpOWSeJzxMipD1d2aRtfOJeAAAAKUGflUUVLCP/AAAXB5SRvbwH/a0h8SSRpwhga5/5fowd719wqPzfAkOvAAAAHAGftHRH/wAAJKw+XISPKaT0nnUAoeI67l0Ol4AAAAAZAZ+2akf/AAAkvwQnEslpmrhWUx+L4lD8WQAAAEpBm7tJqEFsmUwIZ//+nhAAAEdRCdXAab0kHDSnyNcPL8nVXjXoZdZqk+FxnPhJpsmYpT26HidVBHeMAWo0kLWBZTrLCZCY13FrUQAAACpBn9lFFSwj/wAAF0xDzR4yDry5IOIGuebMOHOh3HLCV+uUbo3niNOtLUgAAAAbAZ/4dEf/AAAFHFt56+jYWi8lcE5v1a+cItSBAAAAHQGf+mpH/wAAJL8EJxLJaZq4VlMfKjt+L62NBJFgAAAATkGb/0moQWyZTAhn//6eEAAAR0UEy0yxHZrB5dXcseX+TGZvURNXTgOluIXkWUcqDWYAE63KD9Xl2/vhmUuwOPzJGB59TNL3KlYMPHm+uQAAACRBnh1FFSwj/wAAF0xDzbbceImJMdXhCokO1wFk18S5rbLmpsEAAAAOAZ48dEf/AAADAAADAakAAAArAZ4+akf/AAAkvwQnEsnU+hbF0tgA42lzyfhSp05hHYuoUFq0rGWJWPAteAAAADtBmiNJqEFsmUwIZ//+nhAAAEd6zbsSaQjXSHHDixcuJ2iPdQVEAazqnV4aL3fRqSO+DeSarAxETtTXnwAAACBBnkFFFSwj/wAAF0xDzbcVzKyZST4HQorLh58FTnXFqQAAAA4BnmB0R/8AAAMAAAMBqQAAABsBnmJqR/8AACSxzAlvqW+yFUj7/AYoyD53nBAAAAA3QZpnSahBbJlMCGf//p4QAABHRQUU3owtbJ8pAAIVGf0Ns+TgFsbxAnAPzWzyfTJeGh6LxUZFtQAAAClBnoVFFSwj/wAAF0xDzbcV5z5JX9THufzrbISDj04QowSmSpuB+df3uQAAABoBnqR0R/8AAAVD0MHOto3DV9gRWgicZldqQQAAABwBnqZqR/8AACSxzAlvqW+yT6+npigqQlvrBOCBAAAATkGaq0moQWyZTAhn//6eEAAAR1EJTwU2Rc2gkuBaAGuV+BfdIbezrY/ESWxRVmcz0V0tpfGj1xMWUSVsI6LEnOKz8WxYy4zV8UGzpH7kiAAAAB1BnslFFSwj/wAAF0UrN2taXriig8IwsDncx5qHBAAAACQBnuh0R/8AACTDF2ippPQiGv7tbigx5Kdy7/wxuyBtjKV8pFkAAAAOAZ7qakf/AAADAAADAakAAAB7QZrvSahBbJlMCGf//p4QAABHRFoiXTg1/W5EoADi7TqEdjeAfN7FT87AV+hVAVfqpvO7BCLVXUxkLdrPvAIwpgV2Ct/9h1Y4ULaFDHOq9nLPQxrXi8DEgJWpOVfy0BcWflvIfawn2oV2vdQrk31rLWeLNHa1KYATQSHRAAAAJ0GfDUUVLCP/AAAXQ0e3DbckTi8so9EYuTUjeP0CxkIMtst18kW49wAAABwBnyx0R/8AACSr+Ft4Ep1oI4gRnrkaA90L8ytTAAAAGQGfLmpH/wAAJL8EJxLJaZq4VlMfKGdiO6EAAAA8QZszSahBbJlMCGf//p4QAABHRQVMunB/sv9rSq0AX+gYViUNqYuI+6qRKgTqBgquS+Silm8JE4YExYBgAAAAL0GfUUUVLCP/AAAXTEPNt/o/RWaAEtKj60GthjWeUWQQSN+68OWCvvnRCEEpEnXgAAAAHQGfcHRH/wAABUBSabBO1SRIWRnEOYPX/RYnr0ixAAAAGAGfcmpH/wAAJLHMCW+pb7IVTG0m4cCygAAAAIRBm3dJqEFsmUwIX//+jLAAAEglD/nw3Ecz5IP+BNXkl3yNCFr30utgTKHqUkC6ZHcshSVFeQl07NmJuhOdYLmyFnC8yhvVknqUQK5WcZeGIG6vtEAd3Ekf5JRZRyBGb3bJwyVvN+2QPzDcOYhJlfXl7koan76A+qVpt2HSHkxhXlVjd5oAAAAzQZ+VRRUsI/8AABdDR7cNwTQDpSJ1N6ENoh+G2cqzagJgGLDv7MT8KgK0p1HLtDCDy+pBAAAAGAGftHRH/wAAJMMXaKmlU9T7wnaGs/CNSAAAACMBn7ZqR/8AACS/BCcSycMImDnIAB9CvlnAD43AUsIqu+O14QAAAFhBm7tJqEFsmUwIX//+jLAAAEgC0OCZdLcDHB3JrEAA3X7a1epXGLTuLylSa/8gPv4TyJz3sZI4yAtpnCN4kHd3xEL53DWjeNK9C2iCWxRRouHNyU1XkQnhAAAAIEGf2UUVLCP/AAAXTEPNttx4kWIwi9Fks2n4S8wYth7gAAAADgGf+HRH/wAAAwAAAwGpAAAAHQGf+mpH/wAAJLHMCW+pb7IVSPv8B6zjYrjerj3AAAAAXEGb/0moQWyZTAhf//6MsAAASAHyfMYhvWvOyYUjNPCSQ54Vof4/x4AUiC+mudYAXhAXWfj51Uwi09vfM9Dm9YyuvqwraD5DClVA+Hi1jzldobHPeFPJ8bWBOf3BAAAAYUGeHUUVLCP/AAAXQ0iL8gqntHkWEorTdaUGEf4HCewSyAMLISSj2bO9JVXRp5EWmTbjaeA9EyWbHiRlHgRJy6BzyAjoWr9GxIxHvZ2loYiohextREJ1kThI6OX5kHca14EAAAAeAZ48dEf/AAAkrDkFrk3Ypwti3WKFEFOD2gkQMh7gAAAAJQGePmpH/wAAJLIsZzRjebRUhT7hof7EsuDgIVFKWgqjaTRxIe4AAAA+QZohSahBbJlMFEwv//6MsAAASALVMQBvOVjiIbM6344a+YUF1FTPanxJjP9mNkIkn13prb+oBlcMCgkmSTMAAAA0AZ5Aakf/AAAkvxrNhiSmNrKndAu+Jr28Mc7nHgzzIkACdtMTTnfAzxRXUJpiAlYdutTggAAAAEdBmkNJ4QpSZTBSwz/+nhAAAEdRCf6gC6VbzuLEN+p3ik889njj8aO5Js3ss9GYqdQSyXL5QUp6Mx346t6bpbI/F8SBphoLgQAAACwBnmJqR/8AACSyLGc0TsZ8MyshVdaJSF86UcBYwV5UbVzw4PLyvup2eYGwIAAAAG1BmmdJ4Q6JlMCGf/6eEAAASURZ9ibszmF1yhyivqS2qNFSwH/41WtLUtqSAE44PUTwrdVw2S0EFouK9I7U8fXCV7dM9OL3pizg/NcXkj9o/3hL8sTfUKFCU9+B3hy7piDPWBEiJ53vrRa/Js/VAAAAN0GehUUVPCP/AAAX4Ie3DbkcMSQACqxnrCSFdg4lS73QZ00KFA2Ug2ywzWQZIS1cbssaJlOIL4sAAAAkAZ6kdEf/AAAlwxdoqaWsRGMxrD/mmCZWcqy8n6zPQRivqQ/dAAAAHQGepmpH/wAAJb8EJxLJaZq4VlMfKjt+L62NBJBhAAAAOEGaq0moQWiZTAhn//6eEAAASURZ9ibszmAhcn6li6LcIwTM78TfUUKW0r2TDt1VrvinlqwXjA9kAAAAL0GeyUURLCP/AAAX6YPNseEMqiZ1ozz0ujT0V+LqrjKsdM+EwYNPjZJ54U3H3iIEAAAAIQGe6HRH/wAABWRbeYeFu7XYlpe30k3X/kvsDcF9kRwG3QAAACUBnupqR/8AACWuXW++ym2k+HIE9GNLM+3NAAtutCXw1zpKCkvAAAAAR0Ga70moQWyZTAhn//6eEAAASURaIl04QEWinqyFiVssTpwP/DCrJALU3jM0i1IuljNACxYUp/ZRCxyTzcqd6iqr6VrA1ClUAAAAN0GfDUUVLCP/AAAX4Ie3DbsOaFdFWLc0WsfwAi+4vbR+rUSGbgLl/HB+2wqrLyC18hctVOp158EAAAAoAZ8sdEf/AAAlwxdoVRD7QQsUiZjqqz4xddODRrm7nywGuAHF3nTNpwAAAB4Bny5qR/8AACW/BCcSyWmauGvtwHeoLcifm9FuQYEAAABLQZszSahBbJlMCF///oywAABKAfH5PQJK9lkE2pJCFyuIMVhE7udYLgyYt5fNgExqsMH10el8GPOXuhNvAIwRCcEa1JeiRIv+pN33AAAAIUGfUUUVLCP/AAAX4Ie3DbkcL+XQ17GS7lJ3SRVIgFOQYAAAACsBn3B0R/8AACXDF2hVERYNSqA2Fr88A+q499iUV4T5jzgYie1ON/iba3nxAAAAHQGfcmpH/wAAJb8EJxLJaZq4VlMfKjt+L62NBJBgAAAALUGbd0moQWyZTAhf//6MsAAASgHx+T0CTqsG89zsM5+LkKnqv5uJd0M7cL8hFAAAACVBn5VFFSwj/wAAF+CHtw25G5MNG3qKRtvXbcHh1yTNkw+p5pOBAAAAIwGftHRH/wAAJav4W3gZmzsJVV2rGOg/VHA6uVGatcBsitnwAAAAFgGftmpH/wAAJbHMCW+pb7IVltssLyEAAABtQZu6SahBbJlMCF///oywAABKAfJwTLpVdGI7p1fXPCwp2g3lKy0iaCo/C8box6MX9Y3iC6gFP3MIA68To9gCu2VTS4b3O3RNlCKDROKcoYN2Zf81TrZOcoMye5vtmetkcqyPm/QpApV0b+zgHwAAAD1Bn9hFFSwj/wAAF+CHzqg33E0dAAE1N7uODpd9LkOfbqlPp/Zwxmpa5feDtZThU3DHEeO+ineY2PhKnKTAAAAASgGf+WpH/wAAJb8azljWdACS6SIvf3fLWZqKwRUuX440QYedc8cQ3vd3ADWMJkSS7rGrMHRyUzHHUI5I7lK9HM9q7vP2PQDE1HsHAAAAQEGb/EmoQWyZTBRML//+jLAAAEoQvJ8saFjBqRqHopo9kbg/oAadUz3Ea7dEY3oDrTfFK9zAgviuipkboayPS00AAAAdAZ4bakf/AAAlsisHEzjgp881B7lvdYpvXVKgQcEAAABTQZoASeEKUmUwIX/+jLAAAEoQj0Z9kosFds1I0s0fJbsE4AQmq3Qc/eXCS6Y11/kHMu1xy9v9wvAwZIlPY5qAtpJRXDkc32f5t4hdDbK/vZx0a+EAAAArQZ4+RTRMI/8AABfgiIvfIC1pEzYm3x5QwABunKc1gV3dScnvrF0nZZQg4AAAACABnl10R/8AACXAmpW85qiXwLgbpnEHW7QfI6eyDxKHEwAAACIBnl9qR/8AACW/GzxwLRKNtTpJ4s1ZjOnykXa8do+YehAhAAAAVUGaREmoQWiZTAhX//44QAABJPF9Tf+IB/qBSSbUTGezRDJSbp6wimZKI21cqodZD8YIa6wf/WRezITnR/7q3QDLvFYevhgOmyLDAnxWLDjMJFfemZUAAAAvQZ5iRREsI/8AABh/7B6jG4N2HdlT+x4BRtUXE65Lw6W0QBT5OkLLUFuuA+tZk7kAAAA3AZ6BdEf/AAAmq/hbdKBZowABx42jJRGJ2sH+7xfb88EaXimTPU2j8+lv8afyQF16eNq5w6b9lQAAAC0BnoNqR/8AACauXjOBeUUdsYADdaXXHA7lllDE8EMz2p92oOKqtqfKEJSYgVMAAABGQZqISahBbJlMCEf//eEAAARzW8i64glVpIVr5TGqtXk8TC1jFfOA5JoAWh4ETpW89l2mo7jZ7uB3CUh5agSPaTK/bpUyFQAAADBBnqZFFSwj/wAAGICHSC14w/t2safX6ZwsO3nHIWMAAXWl7hVB9UZ1FVp+E0jQnPkAAAAjAZ7FdEf/AAAmwxdonQXBqwbk/j+4L4XRv9B6XJcfsgrIWa8AAAAiAZ7Hakf/AAAmscwJY+P1VAdLvHSmLkBQRk+FHdnI68FFbAAAABZBmslJqEFsmUwI//yEAAADAAADAMCAAAAMe21vb3YAAABsbXZoZAAAAAAAAAAAAAAAAAAAA+gAAA/IAAEAAAEAAAAAAAAAAAAAAAABAAAAAAAAAAAAAAAAAAAAAQAAAAAAAAAAAAAAAAAAQAAAAAAAAAAAAAAAAAAAAAAAAAAAAAAAAAAAAAAAAAIAAAuldHJhawAAAFx0a2hkAAAAAwAAAAAAAAAAAAAAAQAAAAAAAA/IAAAAAAAAAAAAAAAAAAAAAAABAAAAAAAAAAAAAAAAAAAAAQAAAAAAAAAAAAAAAAAAQAAAAAJYAAABkAAAAAAAJGVkdHMAAAAcZWxzdAAAAAAAAAABAAAPyAAAAgAAAQAAAAALHW1kaWEAAAAgbWRoZAAAAAAAAAAAAAAAAAAAMgAAAMoAVcQAAAAAAC1oZGxyAAAAAAAAAAB2aWRlAAAAAAAAAAAAAAAAVmlkZW9IYW5kbGVyAAAACshtaW5mAAAAFHZtaGQAAAABAAAAAAAAAAAAAAAkZGluZgAAABxkcmVmAAAAAAAAAAEAAAAMdXJsIAAAAAEAAAqIc3RibAAAAJhzdHNkAAAAAAAAAAEAAACIYXZjMQAAAAAAAAABAAAAAAAAAAAAAAAAAAAAAAJYAZAASAAAAEgAAAAAAAAAAQAAAAAAAAAAAAAAAAAAAAAAAAAAAAAAAAAAAAAAAAAAABj//wAAADJhdmNDAWQAH//hABlnZAAfrNlAmDPl4QAAAwABAAADAGQPGDGWAQAGaOvjyyLAAAAAGHN0dHMAAAAAAAAAAQAAAMoAAAEAAAAAFHN0c3MAAAAAAAAAAQAAAAEAAAZQY3R0cwAAAAAAAADIAAAAAQAAAgAAAAABAAAFAAAAAAEAAAIAAAAAAQAAAAAAAAABAAABAAAAAAEAAAUAAAAAAQAAAgAAAAABAAAAAAAAAAEAAAEAAAAAAQAABQAAAAABAAACAAAAAAEAAAAAAAAAAQAAAQAAAAABAAAFAAAAAAEAAAIAAAAAAQAAAAAAAAABAAABAAAAAAEAAAUAAAAAAQAAAgAAAAABAAAAAAAAAAEAAAEAAAAAAQAABQAAAAABAAACAAAAAAEAAAAAAAAAAQAAAQAAAAABAAAFAAAAAAEAAAIAAAAAAQAAAAAAAAABAAABAAAAAAEAAAUAAAAAAQAAAgAAAAABAAAAAAAAAAEAAAEAAAAAAQAABQAAAAABAAACAAAAAAEAAAAAAAAAAQAAAQAAAAABAAAFAAAAAAEAAAIAAAAAAQAAAAAAAAABAAABAAAAAAEAAAUAAAAAAQAAAgAAAAABAAAAAAAAAAEAAAEAAAAAAQAABQAAAAABAAACAAAAAAEAAAAAAAAAAQAAAQAAAAABAAAFAAAAAAEAAAIAAAAAAQAAAAAAAAABAAABAAAAAAEAAAUAAAAAAQAAAgAAAAABAAAAAAAAAAEAAAEAAAAAAQAABQAAAAABAAACAAAAAAEAAAAAAAAAAQAAAQAAAAABAAAFAAAAAAEAAAIAAAAAAQAAAAAAAAABAAABAAAAAAEAAAUAAAAAAQAAAgAAAAABAAAAAAAAAAEAAAEAAAAAAQAABQAAAAABAAACAAAAAAEAAAAAAAAAAQAAAQAAAAABAAAFAAAAAAEAAAIAAAAAAQAAAAAAAAABAAABAAAAAAEAAAUAAAAAAQAAAgAAAAABAAAAAAAAAAEAAAEAAAAAAQAABQAAAAABAAACAAAAAAEAAAAAAAAAAQAAAQAAAAABAAAFAAAAAAEAAAIAAAAAAQAAAAAAAAABAAABAAAAAAEAAAUAAAAAAQAAAgAAAAABAAAAAAAAAAEAAAEAAAAAAQAABQAAAAABAAACAAAAAAEAAAAAAAAAAQAAAQAAAAABAAAFAAAAAAEAAAIAAAAAAQAAAAAAAAABAAABAAAAAAEAAAUAAAAAAQAAAgAAAAABAAAAAAAAAAEAAAEAAAAAAQAABQAAAAABAAACAAAAAAEAAAAAAAAAAQAAAQAAAAABAAAFAAAAAAEAAAIAAAAAAQAAAAAAAAABAAABAAAAAAEAAAQAAAAAAgAAAQAAAAABAAAFAAAAAAEAAAIAAAAAAQAAAAAAAAABAAABAAAAAAEAAAUAAAAAAQAAAgAAAAABAAAAAAAAAAEAAAEAAAAAAQAABQAAAAABAAACAAAAAAEAAAAAAAAAAQAAAQAAAAABAAAFAAAAAAEAAAIAAAAAAQAAAAAAAAABAAABAAAAAAEAAAUAAAAAAQAAAgAAAAABAAAAAAAAAAEAAAEAAAAAAQAABQAAAAABAAACAAAAAAEAAAAAAAAAAQAAAQAAAAABAAAFAAAAAAEAAAIAAAAAAQAAAAAAAAABAAABAAAAAAEAAAUAAAAAAQAAAgAAAAABAAAAAAAAAAEAAAEAAAAAAQAABQAAAAABAAACAAAAAAEAAAAAAAAAAQAAAQAAAAABAAAFAAAAAAEAAAIAAAAAAQAAAAAAAAABAAABAAAAAAEAAAUAAAAAAQAAAgAAAAABAAAAAAAAAAEAAAEAAAAAAQAAAwAAAAABAAABAAAAAAEAAAMAAAAAAQAAAQAAAAABAAAFAAAAAAEAAAIAAAAAAQAAAAAAAAABAAABAAAAAAEAAAUAAAAAAQAAAgAAAAABAAAAAAAAAAEAAAEAAAAAAQAABQAAAAABAAACAAAAAAEAAAAAAAAAAQAAAQAAAAABAAAFAAAAAAEAAAIAAAAAAQAAAAAAAAABAAABAAAAAAEAAAUAAAAAAQAAAgAAAAABAAAAAAAAAAEAAAEAAAAAAQAABAAAAAACAAABAAAAAAEAAAMAAAAAAQAAAQAAAAABAAAFAAAAAAEAAAIAAAAAAQAAAAAAAAABAAABAAAAAAEAAAUAAAAAAQAAAgAAAAABAAAAAAAAAAEAAAEAAAAAAQAABQAAAAABAAACAAAAAAEAAAAAAAAAAQAAAQAAAAABAAACAAAAABxzdHNjAAAAAAAAAAEAAAABAAAAygAAAAEAAAM8c3RzegAAAAAAAAAAAAAAygAABOoAAABwAAAANQAAADgAAAAjAAAAbAAAADkAAAAtAAAAJAAAADAAAAAcAAAAFgAAABIAAABdAAAALAAAACIAAAAfAAAARQAAAC4AAAAlAAAAHwAAABsAAAAUAAAAEgAAABIAAAAbAAAAMgAAACEAAAAfAAAAWwAAAC0AAAAhAAAAGwAAABsAAAAUAAAAEgAAABIAAAAbAAAAMgAAAB4AAAAgAAAAGwAAACEAAAAbAAAAHgAAAEoAAAAdAAAALAAAABIAAABXAAAAMgAAACMAAAAhAAAAGwAAABYAAAAUAAAAFAAAAG0AAAAnAAAAIAAAABsAAABiAAAAMwAAACgAAAAoAAAAVAAAACkAAAAXAAAAHwAAAEgAAAAyAAAAJgAAABwAAABzAAAAJQAAACEAAAAUAAAATAAAACIAAAA9AAAAHgAAAEIAAAAlAAAAIgAAABYAAAB1AAAAQgAAABwAAAAgAAAAWAAAACYAAAAfAAAAIQAAAEsAAAAhAAAALwAAABIAAABcAAAAMwAAABsAAAAeAAAAXwAAAC4AAAAaAAAAGQAAAFUAAAAnAAAALwAAABkAAABhAAAANgAAACcAAAAgAAAAPQAAABwAAAAbAAAAWQAAAC0AAAAgAAAAHQAAAE4AAAAuAAAAHwAAACEAAABSAAAAKAAAABIAAAAvAAAAPwAAACQAAAASAAAAHwAAADsAAAAtAAAAHgAAACAAAABSAAAAIQAAACgAAAASAAAAfwAAACsAAAAgAAAAHQAAAEAAAAAzAAAAIQAAABwAAACIAAAANwAAABwAAAAnAAAAXAAAACQAAAASAAAAIQAAAGAAAABlAAAAIgAAACkAAABCAAAAOAAAAEsAAAAwAAAAcQAAADsAAAAoAAAAIQAAADwAAAAzAAAAJQAAACkAAABLAAAAOwAAACwAAAAiAAAATwAAACUAAAAvAAAAIQAAADEAAAApAAAAJwAAABoAAABxAAAAQQAAAE4AAABEAAAAIQAAAFcAAAAvAAAAJAAAACYAAABZAAAAMwAAADsAAAAxAAAASgAAADQAAAAnAAAAJgAAABoAAAAUc3RjbwAAAAAAAAABAAAAMAAAAGJ1ZHRhAAAAWm1ldGEAAAAAAAAAIWhkbHIAAAAAAAAAAG1kaXJhcHBsAAAAAAAAAAAAAAAALWlsc3QAAAAlqXRvbwAAAB1kYXRhAAAAAQAAAABMYXZmNTguMjkuMTAw\" type=\"video/mp4\" />\n",
              "             </video>"
            ]
          },
          "metadata": {}
        }
      ],
      "source": [
        "def dqn_main():\n",
        "  # Hyper parameters\n",
        "  lr = 1e-3\n",
        "  epochs = 500\n",
        "  start_training = 1000\n",
        "  gamma = 0.99\n",
        "  batch_size = 32\n",
        "  epsilon = 1\n",
        "  epsilon_decay = .9999\n",
        "  target_update = 1000\n",
        "  learn_frequency = 2\n",
        "\n",
        "  # Init environment\n",
        "  state_size = 4\n",
        "  action_size = 2\n",
        "  env = gym.make('CartPole-v1', render_mode=\"rgb_array\")\n",
        "\n",
        "  # Init networks\n",
        "  q_network = QNetwork(state_size, action_size).cuda()\n",
        "  target_network = QNetwork(state_size, action_size).cuda()\n",
        "  target_network.load_state_dict(q_network.state_dict())\n",
        "\n",
        "  # Init optimizer\n",
        "  optim = torch.optim.Adam(q_network.parameters(), lr=lr)\n",
        "\n",
        "  # Init replay buffer\n",
        "  memory = []\n",
        "\n",
        "  # Begin main loop\n",
        "  results_dqn = []\n",
        "  global_step = 0\n",
        "  loop = tqdm(total=epochs, position=0, leave=False)\n",
        "  for epoch in range(epochs):\n",
        "    last_epoch = (epoch+1 == epochs)\n",
        "    # Record the last epoch, not the previous epochs\n",
        "    if last_epoch:\n",
        "      env = wrap_env(env)\n",
        "\n",
        "    # Reset environment\n",
        "    state, _ = env.reset()\n",
        "    done = False\n",
        "    cum_reward = 0  # Track cumulative reward per episode\n",
        "\n",
        "    # Begin episode\n",
        "    while not done and cum_reward < 200:  # End after 200 steps\n",
        "      # Select e-greedy action\n",
        "      action, epsilon = get_action_dqn(q_network, state, epsilon, epsilon_decay)\n",
        "\n",
        "      # Take step\n",
        "      next_state, reward, terminated, truncated, _ = env.step(action)\n",
        "      done = terminated or truncated\n",
        "      # env.render()\n",
        "\n",
        "      # Store step in replay buffer\n",
        "      memory.append((state, action, next_state, reward, done))\n",
        "\n",
        "      cum_reward += reward\n",
        "      global_step += 1  # Increment total steps\n",
        "      state = next_state  # Set current state\n",
        "\n",
        "      # If time to train\n",
        "      if global_step > start_training and global_step % learn_frequency == 0:\n",
        "\n",
        "        # Sample batch\n",
        "        batch = prepare_batch(memory, batch_size)\n",
        "\n",
        "        # Train\n",
        "        learn_dqn(batch, optim, q_network, target_network, gamma, global_step, target_update)\n",
        "    env.close()\n",
        "    # Print results at end of episode\n",
        "    results_dqn.append(cum_reward)\n",
        "    loop.update(1)\n",
        "    loop.set_description('Episodes: {} Reward: {}'.format(epoch, cum_reward))\n",
        "\n",
        "  return results_dqn\n",
        "\n",
        "results_dqn = dqn_main()\n",
        "show_video()"
      ]
    },
    {
      "cell_type": "code",
      "execution_count": null,
      "metadata": {
        "id": "ZWYwytCDC3aw",
        "colab": {
          "base_uri": "https://localhost:8080/",
          "height": 430
        },
        "outputId": "6b9fe5e8-dc45-4526-f8ec-777be611044a"
      },
      "outputs": [
        {
          "output_type": "display_data",
          "data": {
            "text/plain": [
              "<Figure size 640x480 with 1 Axes>"
            ],
            "image/png": "[encoded data removed]"
          },
          "metadata": {}
        }
      ],
      "source": [
        "plt.plot(results_dqn)\n",
        "plt.show()"
      ]
    },
    {
      "cell_type": "markdown",
      "metadata": {
        "id": "qN9yy5EWVNz0"
      },
      "source": [
        "## PPO"
      ]
    },
    {
      "cell_type": "markdown",
      "metadata": {
        "id": "XvRUJUew0yN_"
      },
      "source": [
        "## Part 2\n",
        "\n",
        "Proximal Policy Optimization\n",
        "\n",
        "$Loss=ValueLoss+PolicyLoss$\n",
        "\n",
        "$ValueLoss=\\frac{1}{N}\\sum \\bigg(\\hat{R} - V(s) \\bigg)^2 $\n",
        "\n",
        "$PolicyLoss=-\\frac{1}{N}\\sum \\min\\bigg( \\frac{\\pi'(a|s)}{\\pi(a|s)} \\hat{A}, clip(\\frac{\\pi'(a|s)}{\\pi(a|s)},1-\\epsilon,1+\\epsilon) \\hat{A} \\bigg) $\n",
        "\n",
        "$\\hat{R}_t = \\sum_{i=t}^H \\gamma^{i-t}r_i$\n",
        "\n",
        "$\\hat{A}_t=\\hat{R}_t-V(s_t)$\n",
        "\n",
        "\n",
        "### TODO\n",
        "\n",
        "- Implement calculate return method\n",
        "- Implement get action method\n",
        "- Implement PPO learning algorithm"
      ]
    },
    {
      "cell_type": "code",
      "execution_count": null,
      "metadata": {
        "id": "zsm1pILHVcEp"
      },
      "outputs": [],
      "source": [
        "def calculate_return(memory, rollout, gamma):\n",
        "  \"\"\"Return memory with calculated return in experience tuple\n",
        "\n",
        "    Args:\n",
        "        memory (list): (state, action, action_dist, return) tuples\n",
        "        rollout (list): (state, action, action_dist, reward) tuples from last rollout\n",
        "        gamma (float): discount factor\n",
        "\n",
        "    Returns:\n",
        "        list: memory updated with (state, action, action_dist, return) tuples from rollout\n",
        "  \"\"\"\n",
        "  the_return = 0\n",
        "  for i in reversed(range(len(rollout))):\n",
        "      state, action, action_dist, reward = rollout[i]\n",
        "      the_return = reward + (gamma*the_return)\n",
        "      memory.append((state, action, action_dist, the_return))\n",
        "\n",
        "  return memory\n",
        "\n",
        "\n",
        "def get_action_ppo(network, state):\n",
        "  \"\"\"Sample action from the distribution obtained from the policy network\n",
        "    Args:\n",
        "        network (PolicyNetwork): Policy Network\n",
        "        state (np-array): current state, size (state_size)\n",
        "\n",
        "    Returns:\n",
        "        int: action sampled from output distribution of policy network\n",
        "        array: output distribution of policy network\n",
        "  \"\"\"\n",
        "  curr_state = torch.cuda.FloatTensor(state).unsqueeze(0)\n",
        "  output_dist = network(curr_state)\n",
        "  action = torch.multinomial(output_dist,1).item()\n",
        "\n",
        "  out_det = output_dist.detach()\n",
        "  return action, out_det\n",
        "\n",
        "\n",
        "def learn_ppo(optim, policy, value, memory_dataloader, epsilon, policy_epochs):\n",
        "  \"\"\"Implement PPO policy and value network updates. Iterate over your entire\n",
        "     memory the number of times indicated by policy_epochs.\n",
        "\n",
        "    Args:\n",
        "        optim (Adam): value and policy optimizer\n",
        "        policy (PolicyNetwork): Policy Network\n",
        "        value (ValueNetwork): Value Network\n",
        "        memory_dataloader (DataLoader): dataloader with (state, action, action_dist, return) tensors\n",
        "        epsilon (float): trust region\n",
        "        policy_epochs (int): number of times to iterate over all memory\n",
        "  \"\"\"\n",
        "\n",
        "  for epoch in range(policy_epochs):\n",
        "    for state, action, action_dist, the_return in memory_dataloader:\n",
        "\n",
        "      action = torch.LongTensor(action).cuda()\n",
        "      action_dist = torch.cuda.FloatTensor(action_dist).squeeze()\n",
        "      state = torch.FloatTensor(state).cuda()\n",
        "      the_return = the_return.type_as(torch.cuda.FloatTensor())\n",
        "\n",
        "      adv = the_return - value(state).squeeze()\n",
        "\n",
        "      new_action_probs = policy(state)\n",
        "      ratio = new_action_probs.gather(1, action.unsqueeze(1)) / action_dist.unsqueeze(1)\n",
        "      s1 = ratio * adv.unsqueeze(1)\n",
        "      s2 = torch.clamp(ratio, 1-epsilon, 1+epsilon) * adv.unsqueeze(1)\n",
        "\n",
        "      loss = F.mse_loss(value(state).squeeze(), the_return) - torch.min(s1,s2).mean()\n",
        "\n",
        "      optim.zero_grad()\n",
        "      loss.backward()\n",
        "      optim.step()\n",
        "\n"
      ]
    },
    {
      "cell_type": "markdown",
      "metadata": {
        "id": "R6RXma_-vSGX"
      },
      "source": [
        "### Modules"
      ]
    },
    {
      "cell_type": "code",
      "execution_count": null,
      "metadata": {
        "id": "L8URnP8xvTTG"
      },
      "outputs": [],
      "source": [
        "# Dataset that wraps memory for a dataloader\n",
        "class RLDataset(Dataset):\n",
        "  def __init__(self, data):\n",
        "    super().__init__()\n",
        "    self.data = []\n",
        "    for d in data:\n",
        "      self.data.append(d)\n",
        "\n",
        "  def __getitem__(self, index):\n",
        "    return self.data[index]\n",
        "\n",
        "  def __len__(self):\n",
        "    return len(self.data)\n",
        "\n",
        "\n",
        "# Policy Network\n",
        "class PolicyNetwork(nn.Module):\n",
        "  def __init__(self, state_size, action_size):\n",
        "    super().__init__()\n",
        "    hidden_size = 8\n",
        "\n",
        "    self.net = nn.Sequential(nn.Linear(state_size, hidden_size),\n",
        "                             nn.ReLU(),\n",
        "                             nn.Linear(hidden_size, hidden_size),\n",
        "                             nn.ReLU(),\n",
        "                             nn.Linear(hidden_size, hidden_size),\n",
        "                             nn.ReLU(),\n",
        "                             nn.Linear(hidden_size, action_size),\n",
        "                             nn.Softmax(dim=1))\n",
        "\n",
        "  def forward(self, x):\n",
        "    \"\"\"Get policy from state\n",
        "\n",
        "      Args:\n",
        "          state (tensor): current state, size (batch x state_size)\n",
        "\n",
        "      Returns:\n",
        "          action_dist (tensor): probability distribution over actions (batch x action_size)\n",
        "    \"\"\"\n",
        "    return self.net(x)\n",
        "\n",
        "\n",
        "# Value Network\n",
        "class ValueNetwork(nn.Module):\n",
        "  def __init__(self, state_size):\n",
        "    super().__init__()\n",
        "    hidden_size = 8\n",
        "\n",
        "    self.net = nn.Sequential(nn.Linear(state_size, hidden_size),\n",
        "                             nn.ReLU(),\n",
        "                             nn.Linear(hidden_size, hidden_size),\n",
        "                             nn.ReLU(),\n",
        "                             nn.Linear(hidden_size, hidden_size),\n",
        "                             nn.ReLU(),\n",
        "                             nn.Linear(hidden_size, 1))\n",
        "\n",
        "  def forward(self, x):\n",
        "    \"\"\"Estimate value given state\n",
        "\n",
        "      Args:\n",
        "          state (tensor): current state, size (batch x state_size)\n",
        "\n",
        "      Returns:\n",
        "          value (tensor): estimated value, size (batch)\n",
        "    \"\"\"\n",
        "    return self.net(x)"
      ]
    },
    {
      "cell_type": "markdown",
      "metadata": {
        "id": "_aBD_R_e01Qb"
      },
      "source": [
        "### Main"
      ]
    },
    {
      "cell_type": "code",
      "execution_count": null,
      "metadata": {
        "id": "qX_Bv4M4MyY2",
        "colab": {
          "base_uri": "https://localhost:8080/",
          "height": 1000
        },
        "outputId": "d90af0bb-ebd8-43e6-d776-9cd4bd8beb80"
      },
      "outputs": [
        {
          "output_type": "stream",
          "name": "stderr",
          "text": [
            "Epochs: 18 Reward: 12.0:  95%|█████████▌| 19/20 [00:46<00:03,  3.10s/it]"
          ]
        },
        {
          "output_type": "stream",
          "name": "stdout",
          "text": [
            "Moviepy - Building video /content/video/rl-video-episode-0.mp4.\n",
            "Moviepy - Writing video /content/video/rl-video-episode-0.mp4\n",
            "\n"
          ]
        },
        {
          "output_type": "stream",
          "name": "stderr",
          "text": [
            "\n",
            "t:   0%|          | 0/71 [00:00<?, ?it/s, now=None]\u001b[A\n",
            "t:  55%|█████▍    | 39/71 [00:00<00:00, 386.34it/s, now=None]\u001b[A\n",
            "Epochs: 18 Reward: 12.0:  95%|█████████▌| 19/20 [00:47<00:03,  3.10s/it]"
          ]
        },
        {
          "output_type": "stream",
          "name": "stdout",
          "text": [
            "Moviepy - Done !\n",
            "Moviepy - video ready /content/video/rl-video-episode-0.mp4\n"
          ]
        },
        {
          "output_type": "stream",
          "name": "stderr",
          "text": [
            "Epochs: 18 Reward: 12.0:  95%|█████████▌| 19/20 [00:47<00:03,  3.10s/it]"
          ]
        },
        {
          "output_type": "stream",
          "name": "stdout",
          "text": [
            "Moviepy - Building video /content/video/rl-video-episode-1.mp4.\n",
            "Moviepy - Writing video /content/video/rl-video-episode-1.mp4\n",
            "\n"
          ]
        },
        {
          "output_type": "stream",
          "name": "stderr",
          "text": [
            "\n",
            "t:   0%|          | 0/49 [00:00<?, ?it/s, now=None]\u001b[A\n",
            "t:  88%|████████▊ | 43/49 [00:00<00:00, 429.72it/s, now=None]\u001b[A\n",
            "Epochs: 18 Reward: 12.0:  95%|█████████▌| 19/20 [00:47<00:03,  3.10s/it]"
          ]
        },
        {
          "output_type": "stream",
          "name": "stdout",
          "text": [
            "Moviepy - Done !\n",
            "Moviepy - video ready /content/video/rl-video-episode-1.mp4\n"
          ]
        },
        {
          "output_type": "stream",
          "name": "stderr",
          "text": [
            "Epochs: 18 Reward: 12.0:  95%|█████████▌| 19/20 [00:47<00:03,  3.10s/it]"
          ]
        },
        {
          "output_type": "stream",
          "name": "stdout",
          "text": [
            "Moviepy - Building video /content/video/rl-video-episode-8.mp4.\n",
            "Moviepy - Writing video /content/video/rl-video-episode-8.mp4\n",
            "\n"
          ]
        },
        {
          "output_type": "stream",
          "name": "stderr",
          "text": [
            "\n",
            "t:   0%|          | 0/1 [00:00<?, ?it/s, now=None]\u001b[A\n",
            "Epochs: 18 Reward: 12.0:  95%|█████████▌| 19/20 [00:47<00:03,  3.10s/it]"
          ]
        },
        {
          "output_type": "stream",
          "name": "stdout",
          "text": [
            "Moviepy - Done !\n",
            "Moviepy - video ready /content/video/rl-video-episode-8.mp4\n"
          ]
        },
        {
          "output_type": "stream",
          "name": "stderr",
          "text": [
            "Epochs: 18 Reward: 12.0:  95%|█████████▌| 19/20 [00:48<00:03,  3.10s/it]"
          ]
        },
        {
          "output_type": "stream",
          "name": "stdout",
          "text": [
            "Moviepy - Building video /content/video/rl-video-episode-8.mp4.\n",
            "Moviepy - Writing video /content/video/rl-video-episode-8.mp4\n",
            "\n"
          ]
        },
        {
          "output_type": "stream",
          "name": "stderr",
          "text": [
            "\n",
            "t:   0%|          | 0/77 [00:00<?, ?it/s, now=None]\u001b[A\n",
            "t:  58%|█████▊    | 45/77 [00:00<00:00, 440.92it/s, now=None]\u001b[A\n",
            "Epochs: 18 Reward: 12.0:  95%|█████████▌| 19/20 [00:48<00:03,  3.10s/it]"
          ]
        },
        {
          "output_type": "stream",
          "name": "stdout",
          "text": [
            "Moviepy - Done !\n",
            "Moviepy - video ready /content/video/rl-video-episode-8.mp4\n"
          ]
        },
        {
          "output_type": "stream",
          "name": "stderr",
          "text": [
            "Epochs: 18 Reward: 12.0:  95%|█████████▌| 19/20 [00:49<00:03,  3.10s/it]"
          ]
        },
        {
          "output_type": "stream",
          "name": "stdout",
          "text": [
            "Moviepy - Building video /content/video/rl-video-episode-27.mp4.\n",
            "Moviepy - Writing video /content/video/rl-video-episode-27.mp4\n",
            "\n"
          ]
        },
        {
          "output_type": "stream",
          "name": "stderr",
          "text": [
            "\n",
            "t:   0%|          | 0/1 [00:00<?, ?it/s, now=None]\u001b[A\n",
            "Epochs: 18 Reward: 12.0:  95%|█████████▌| 19/20 [00:49<00:03,  3.10s/it]"
          ]
        },
        {
          "output_type": "stream",
          "name": "stdout",
          "text": [
            "Moviepy - Done !\n",
            "Moviepy - video ready /content/video/rl-video-episode-27.mp4\n"
          ]
        },
        {
          "output_type": "stream",
          "name": "stderr",
          "text": [
            "Epochs: 18 Reward: 12.0:  95%|█████████▌| 19/20 [00:49<00:03,  3.10s/it]"
          ]
        },
        {
          "output_type": "stream",
          "name": "stdout",
          "text": [
            "Moviepy - Building video /content/video/rl-video-episode-27.mp4.\n",
            "Moviepy - Writing video /content/video/rl-video-episode-27.mp4\n",
            "\n"
          ]
        },
        {
          "output_type": "stream",
          "name": "stderr",
          "text": [
            "\n",
            "t:   0%|          | 0/41 [00:00<?, ?it/s, now=None]\u001b[A\n",
            "Epochs: 18 Reward: 12.0:  95%|█████████▌| 19/20 [00:49<00:03,  3.10s/it]"
          ]
        },
        {
          "output_type": "stream",
          "name": "stdout",
          "text": [
            "Moviepy - Done !\n",
            "Moviepy - video ready /content/video/rl-video-episode-27.mp4\n"
          ]
        },
        {
          "output_type": "stream",
          "name": "stderr",
          "text": [
            "Epochs: 18 Reward: 12.0:  95%|█████████▌| 19/20 [00:50<00:03,  3.10s/it]"
          ]
        },
        {
          "output_type": "stream",
          "name": "stdout",
          "text": [
            "Moviepy - Building video /content/video/rl-video-episode-64.mp4.\n",
            "Moviepy - Writing video /content/video/rl-video-episode-64.mp4\n",
            "\n"
          ]
        },
        {
          "output_type": "stream",
          "name": "stderr",
          "text": [
            "\n",
            "t:   0%|          | 0/1 [00:00<?, ?it/s, now=None]\u001b[A\n",
            "Epochs: 18 Reward: 12.0:  95%|█████████▌| 19/20 [00:50<00:03,  3.10s/it]"
          ]
        },
        {
          "output_type": "stream",
          "name": "stdout",
          "text": [
            "Moviepy - Done !\n",
            "Moviepy - video ready /content/video/rl-video-episode-64.mp4\n"
          ]
        },
        {
          "output_type": "stream",
          "name": "stderr",
          "text": [
            "Epochs: 18 Reward: 12.0:  95%|█████████▌| 19/20 [00:51<00:03,  3.10s/it]"
          ]
        },
        {
          "output_type": "stream",
          "name": "stdout",
          "text": [
            "Moviepy - Building video /content/video/rl-video-episode-64.mp4.\n",
            "Moviepy - Writing video /content/video/rl-video-episode-64.mp4\n",
            "\n"
          ]
        },
        {
          "output_type": "stream",
          "name": "stderr",
          "text": [
            "\n",
            "t:   0%|          | 0/112 [00:00<?, ?it/s, now=None]\u001b[A\n",
            "t:  35%|███▍      | 39/112 [00:00<00:00, 384.83it/s, now=None]\u001b[A\n",
            "t:  70%|██████▉   | 78/112 [00:00<00:00, 321.06it/s, now=None]\u001b[A\n",
            "t: 100%|██████████| 112/112 [00:00<00:00, 328.23it/s, now=None]\u001b[A\n",
            "Epochs: 18 Reward: 12.0:  95%|█████████▌| 19/20 [00:51<00:03,  3.10s/it]"
          ]
        },
        {
          "output_type": "stream",
          "name": "stdout",
          "text": [
            "Moviepy - Done !\n",
            "Moviepy - video ready /content/video/rl-video-episode-64.mp4\n"
          ]
        },
        {
          "output_type": "stream",
          "name": "stderr",
          "text": []
        },
        {
          "output_type": "display_data",
          "data": {
            "text/plain": [
              "<IPython.core.display.HTML object>"
            ],
            "text/html": [
              "<video alt=\"test\" autoplay\n",
              "                loop controls style=\"height: 400px;\">\n",
              "                <source src=\"data:video/mp4;base64,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\" type=\"video/mp4\" />\n",
              "             </video>"
            ]
          },
          "metadata": {}
        }
      ],
      "source": [
        "def ppo_main():\n",
        "  # Hyper parameters\n",
        "  lr = 1e-3\n",
        "  epochs = 20\n",
        "  env_samples = 100\n",
        "  gamma = 0.9\n",
        "  batch_size = 256\n",
        "  epsilon = 0.2\n",
        "  policy_epochs = 5\n",
        "\n",
        "  # Init environment\n",
        "  state_size = 4\n",
        "  action_size = 2\n",
        "  env = gym.make('CartPole-v1', render_mode=\"rgb_array\")\n",
        "\n",
        "  # Init networks\n",
        "  policy_network = PolicyNetwork(state_size, action_size).cuda()\n",
        "  value_network = ValueNetwork(state_size).cuda()\n",
        "\n",
        "  # Init optimizer\n",
        "  optim = torch.optim.Adam(chain(policy_network.parameters(), value_network.parameters()), lr=lr)\n",
        "\n",
        "  # Start main loop\n",
        "  results_ppo = []\n",
        "  loop = tqdm(total=epochs, position=0, leave=False)\n",
        "  for epoch in range(epochs):\n",
        "    last_epoch = (epoch+1 == epochs)\n",
        "    # Record only last epoch\n",
        "    if last_epoch:\n",
        "      env = wrap_env(env)\n",
        "\n",
        "    memory = []  # Reset memory every epoch\n",
        "    rewards = []  # Calculate average episodic reward per epoch\n",
        "\n",
        "    # Begin experience loop\n",
        "    for episode in range(env_samples):\n",
        "\n",
        "      # Reset environment\n",
        "      state, _ = env.reset()\n",
        "      done = False\n",
        "      rollout = []\n",
        "      cum_reward = 0  # Track cumulative reward\n",
        "\n",
        "      # Begin episode\n",
        "      while not done and cum_reward < 200:  # End after 200 steps\n",
        "        # Get action\n",
        "        action, action_dist = get_action_ppo(policy_network, state)\n",
        "\n",
        "        # Take step\n",
        "        next_state, reward, terminated, truncated, _ = env.step(action)\n",
        "        done = terminated or truncated\n",
        "        # env.render()\n",
        "\n",
        "        # Store step\n",
        "        rollout.append((state, action, action_dist, reward))\n",
        "\n",
        "        cum_reward += reward\n",
        "        state = next_state  # Set current state\n",
        "\n",
        "      # Calculate returns and add episode to memory\n",
        "      memory = calculate_return(memory, rollout, gamma)\n",
        "\n",
        "      rewards.append(cum_reward)\n",
        "      env.close()\n",
        "    # Train\n",
        "    dataset = RLDataset(memory)\n",
        "    loader = DataLoader(dataset, batch_size=batch_size, shuffle=True)\n",
        "    learn_ppo(optim, policy_network, value_network, loader, epsilon, policy_epochs)\n",
        "\n",
        "    # Print results\n",
        "    results_ppo.extend(rewards)  # Store rewards for this epoch\n",
        "    loop.update(1)\n",
        "    loop.set_description(\"Epochs: {} Reward: {}\".format(epoch, results_ppo[-1]))\n",
        "\n",
        "  return results_ppo\n",
        "\n",
        "results_ppo = ppo_main()\n",
        "show_video()"
      ]
    },
    {
      "cell_type": "code",
      "execution_count": null,
      "metadata": {
        "id": "pLXetCMpC1DE",
        "colab": {
          "base_uri": "https://localhost:8080/",
          "height": 430
        },
        "outputId": "0e9f6f54-f8e2-499f-88d8-1419a84e1bfe"
      },
      "outputs": [
        {
          "output_type": "display_data",
          "data": {
            "text/plain": [
              "<Figure size 640x480 with 1 Axes>"
            ],
            "image/png": "[encoded data removed]"
          },
          "metadata": {}
        }
      ],
      "source": [
        "plt.plot(results_ppo)\n",
        "plt.show()"
      ]
    }
  ],
  "metadata": {
    "accelerator": "GPU",
    "colab": {
      "provenance": []
    },
    "kernelspec": {
      "display_name": "Python 3",
      "language": "python",
      "name": "python3"
    },
    "language_info": {
      "codemirror_mode": {
        "name": "ipython",
        "version": 3
      },
      "file_extension": ".py",
      "mimetype": "text/x-python",
      "name": "python",
      "nbconvert_exporter": "python",
      "pygments_lexer": "ipython3",
      "version": "3.9.15"
    }
  },
  "nbformat": 4,
  "nbformat_minor": 0
}